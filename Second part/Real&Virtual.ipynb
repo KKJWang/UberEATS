{
 "cells": [
  {
   "cell_type": "code",
   "execution_count": 1,
   "id": "d5435bb8",
   "metadata": {},
   "outputs": [],
   "source": [
    "import pandas as pd\n",
    "import matplotlib.pyplot as plt"
   ]
  },
  {
   "cell_type": "code",
   "execution_count": 2,
   "id": "c8a1650f",
   "metadata": {},
   "outputs": [],
   "source": [
    "google_df1 = pd.read_excel(\"google_rest_dict_20221118-160042.xlsx\")\n",
    "google_df2 = pd.read_excel(\"google_rest_dict_20221119-230955.xlsx\")\n",
    "google_df3 = pd.read_excel(\"google_rest_dict_20221122-170842.xlsx\")\n",
    "google_df4 = pd.read_excel(\"google_rest_dict_20221122-200554.xlsx\")"
   ]
  },
  {
   "cell_type": "code",
   "execution_count": 3,
   "id": "3a8e5f73",
   "metadata": {},
   "outputs": [],
   "source": [
    "google_df = pd.concat([google_df1,google_df2,google_df3,google_df4])"
   ]
  },
  {
   "cell_type": "code",
   "execution_count": 4,
   "id": "e8af85c0",
   "metadata": {},
   "outputs": [],
   "source": [
    "uber_df1 = pd.read_csv(\"restaurant-details-final.csv\")\n",
    "uber_df2 = pd.read_csv(\"restaurant-details-final[6].csv\")\n",
    "uber_df3 = pd.read_csv(\"restaurant-details-final[36].csv\")\n",
    "uber_df4 = pd.read_csv(\"restaurants-details-all.csv\")"
   ]
  },
  {
   "cell_type": "code",
   "execution_count": 5,
   "id": "9e9695ca",
   "metadata": {},
   "outputs": [],
   "source": [
    "uber_df = pd.concat([uber_df1,uber_df2,uber_df3,uber_df4])[[\"name\", \"streetAddress\", \"avgRating\"]]"
   ]
  },
  {
   "cell_type": "code",
   "execution_count": 6,
   "id": "85bac25b",
   "metadata": {},
   "outputs": [],
   "source": [
    "# count the number of restaurants for each address\n",
    "\n",
    "count_per_address = uber_df.groupby(['streetAddress']).size()"
   ]
  },
  {
   "cell_type": "code",
   "execution_count": 7,
   "id": "323c56cb",
   "metadata": {},
   "outputs": [],
   "source": [
    "# get the list of addresses where there are more than one restaurants\n",
    "\n",
    "address_with_multiple_res = list(count_per_address[count_per_address != 1].index)"
   ]
  },
  {
   "cell_type": "code",
   "execution_count": 8,
   "id": "ff129894",
   "metadata": {},
   "outputs": [],
   "source": [
    "# get the names of restaurants whose addresses have more than one restaurant\n",
    "\n",
    "suspicious_df = uber_df.loc[uber_df['streetAddress'].isin(address_with_multiple_res)]\n",
    "suspicious_res_name = suspicious_df['name']"
   ]
  },
  {
   "cell_type": "code",
   "execution_count": 9,
   "id": "fa4ad364",
   "metadata": {},
   "outputs": [],
   "source": [
    "# extract all the names of restaurants from Google\n",
    "\n",
    "res_name_from_google = list(google_df['name'])"
   ]
  },
  {
   "cell_type": "code",
   "execution_count": 10,
   "id": "0f79cb77",
   "metadata": {},
   "outputs": [],
   "source": [
    "# if the name of a restaurant is not in Google data, the restaurant is considered to be fake\n",
    "\n",
    "fake_res_name = []\n",
    "\n",
    "for name in list(suspicious_res_name):\n",
    "    if name not in res_name_from_google:\n",
    "        fake_res_name.append(name)"
   ]
  },
  {
   "cell_type": "code",
   "execution_count": 11,
   "id": "6a72459b",
   "metadata": {},
   "outputs": [],
   "source": [
    "# partition restaurants into fake set and real set\n",
    "\n",
    "fake_res_df = uber_df.loc[uber_df[\"name\"].isin(fake_res_name)]\n",
    "real_res_df = uber_df.loc[~uber_df[\"name\"].isin(fake_res_name)]"
   ]
  },
  {
   "cell_type": "code",
   "execution_count": 15,
   "id": "3d570262",
   "metadata": {},
   "outputs": [
    {
     "data": {
      "text/html": [
       "<div>\n",
       "<style scoped>\n",
       "    .dataframe tbody tr th:only-of-type {\n",
       "        vertical-align: middle;\n",
       "    }\n",
       "\n",
       "    .dataframe tbody tr th {\n",
       "        vertical-align: top;\n",
       "    }\n",
       "\n",
       "    .dataframe thead th {\n",
       "        text-align: right;\n",
       "    }\n",
       "</style>\n",
       "<table border=\"1\" class=\"dataframe\">\n",
       "  <thead>\n",
       "    <tr style=\"text-align: right;\">\n",
       "      <th></th>\n",
       "      <th>name</th>\n",
       "      <th>streetAddress</th>\n",
       "      <th>avgRating</th>\n",
       "    </tr>\n",
       "  </thead>\n",
       "  <tbody>\n",
       "    <tr>\n",
       "      <th>1</th>\n",
       "      <td>The Butcher's Daughter - West Village</td>\n",
       "      <td>581 Hudson St</td>\n",
       "      <td>4.7</td>\n",
       "    </tr>\n",
       "    <tr>\n",
       "      <th>25</th>\n",
       "      <td>Pho 99</td>\n",
       "      <td>210 East 14th Street</td>\n",
       "      <td>4.2</td>\n",
       "    </tr>\n",
       "    <tr>\n",
       "      <th>33</th>\n",
       "      <td>Hollywood Diner - Union Square</td>\n",
       "      <td>574 6th Ave</td>\n",
       "      <td>4.7</td>\n",
       "    </tr>\n",
       "    <tr>\n",
       "      <th>51</th>\n",
       "      <td>Zutto Japanese American Pub</td>\n",
       "      <td>77 Hudson St</td>\n",
       "      <td>4.8</td>\n",
       "    </tr>\n",
       "    <tr>\n",
       "      <th>59</th>\n",
       "      <td>Kyuramen 九汤屋 (Union Square)</td>\n",
       "      <td>210 East 14th Street</td>\n",
       "      <td>4.6</td>\n",
       "    </tr>\n",
       "    <tr>\n",
       "      <th>...</th>\n",
       "      <td>...</td>\n",
       "      <td>...</td>\n",
       "      <td>...</td>\n",
       "    </tr>\n",
       "    <tr>\n",
       "      <th>3207</th>\n",
       "      <td>Regina Pizzeria (South Shore Plaza)</td>\n",
       "      <td>250 Granite St</td>\n",
       "      <td>4.9</td>\n",
       "    </tr>\n",
       "    <tr>\n",
       "      <th>3208</th>\n",
       "      <td>Wavy Baby Subs</td>\n",
       "      <td>850 Massachusetts Ave</td>\n",
       "      <td>NaN</td>\n",
       "    </tr>\n",
       "    <tr>\n",
       "      <th>3209</th>\n",
       "      <td>J.P. Licks (College)</td>\n",
       "      <td>4 College Ave</td>\n",
       "      <td>4.8</td>\n",
       "    </tr>\n",
       "    <tr>\n",
       "      <th>3210</th>\n",
       "      <td>Hot Kurry</td>\n",
       "      <td>20 North Road</td>\n",
       "      <td>NaN</td>\n",
       "    </tr>\n",
       "    <tr>\n",
       "      <th>3217</th>\n",
       "      <td>Freaking Good Pizza</td>\n",
       "      <td>772 Tremont St</td>\n",
       "      <td>NaN</td>\n",
       "    </tr>\n",
       "  </tbody>\n",
       "</table>\n",
       "<p>868 rows × 3 columns</p>\n",
       "</div>"
      ],
      "text/plain": [
       "                                       name          streetAddress  avgRating\n",
       "1     The Butcher's Daughter - West Village          581 Hudson St        4.7\n",
       "25                                   Pho 99   210 East 14th Street        4.2\n",
       "33           Hollywood Diner - Union Square            574 6th Ave        4.7\n",
       "51              Zutto Japanese American Pub           77 Hudson St        4.8\n",
       "59              Kyuramen 九汤屋 (Union Square)   210 East 14th Street        4.6\n",
       "...                                     ...                    ...        ...\n",
       "3207    Regina Pizzeria (South Shore Plaza)         250 Granite St        4.9\n",
       "3208                         Wavy Baby Subs  850 Massachusetts Ave        NaN\n",
       "3209                   J.P. Licks (College)          4 College Ave        4.8\n",
       "3210                              Hot Kurry          20 North Road        NaN\n",
       "3217                    Freaking Good Pizza         772 Tremont St        NaN\n",
       "\n",
       "[868 rows x 3 columns]"
      ]
     },
     "execution_count": 15,
     "metadata": {},
     "output_type": "execute_result"
    }
   ],
   "source": [
    "fake_res_df"
   ]
  },
  {
   "cell_type": "code",
   "execution_count": 16,
   "id": "357c1a99",
   "metadata": {},
   "outputs": [
    {
     "data": {
      "text/html": [
       "<div>\n",
       "<style scoped>\n",
       "    .dataframe tbody tr th:only-of-type {\n",
       "        vertical-align: middle;\n",
       "    }\n",
       "\n",
       "    .dataframe tbody tr th {\n",
       "        vertical-align: top;\n",
       "    }\n",
       "\n",
       "    .dataframe thead th {\n",
       "        text-align: right;\n",
       "    }\n",
       "</style>\n",
       "<table border=\"1\" class=\"dataframe\">\n",
       "  <thead>\n",
       "    <tr style=\"text-align: right;\">\n",
       "      <th></th>\n",
       "      <th>name</th>\n",
       "      <th>streetAddress</th>\n",
       "      <th>avgRating</th>\n",
       "    </tr>\n",
       "  </thead>\n",
       "  <tbody>\n",
       "    <tr>\n",
       "      <th>0</th>\n",
       "      <td>Joe &amp;amp; The Juice (67 Spring Street)</td>\n",
       "      <td>67 Spring Street</td>\n",
       "      <td>4.9</td>\n",
       "    </tr>\n",
       "    <tr>\n",
       "      <th>2</th>\n",
       "      <td>Dimes Deli</td>\n",
       "      <td>143 Division St</td>\n",
       "      <td>4.9</td>\n",
       "    </tr>\n",
       "    <tr>\n",
       "      <th>3</th>\n",
       "      <td>Spring Cafe NYC</td>\n",
       "      <td>153d Centre St</td>\n",
       "      <td>4.9</td>\n",
       "    </tr>\n",
       "    <tr>\n",
       "      <th>4</th>\n",
       "      <td>Essen Fast Slow Food -Soho</td>\n",
       "      <td>160 Varick Street</td>\n",
       "      <td>NaN</td>\n",
       "    </tr>\n",
       "    <tr>\n",
       "      <th>5</th>\n",
       "      <td>The Bean - Astor Place</td>\n",
       "      <td>31 3rd Avenue</td>\n",
       "      <td>5.0</td>\n",
       "    </tr>\n",
       "    <tr>\n",
       "      <th>...</th>\n",
       "      <td>...</td>\n",
       "      <td>...</td>\n",
       "      <td>...</td>\n",
       "    </tr>\n",
       "    <tr>\n",
       "      <th>3218</th>\n",
       "      <td>Pardon My Cheesesteak (1257 Highland Avenue)</td>\n",
       "      <td>1257 Highland Avenue</td>\n",
       "      <td>4.6</td>\n",
       "    </tr>\n",
       "    <tr>\n",
       "      <th>3219</th>\n",
       "      <td>Hooters (Dedham)</td>\n",
       "      <td>850 Providence Hwy Rt 1A</td>\n",
       "      <td>4.3</td>\n",
       "    </tr>\n",
       "    <tr>\n",
       "      <th>3220</th>\n",
       "      <td>Bonchon Chicken (299 Essex St)</td>\n",
       "      <td>299 Essex St</td>\n",
       "      <td>4.7</td>\n",
       "    </tr>\n",
       "    <tr>\n",
       "      <th>3221</th>\n",
       "      <td>KFC (485 Boston Road)</td>\n",
       "      <td>485 Boston Road</td>\n",
       "      <td>4.5</td>\n",
       "    </tr>\n",
       "    <tr>\n",
       "      <th>3222</th>\n",
       "      <td>Kung Fu Tea</td>\n",
       "      <td>1 Brighton Ave</td>\n",
       "      <td>NaN</td>\n",
       "    </tr>\n",
       "  </tbody>\n",
       "</table>\n",
       "<p>4240 rows × 3 columns</p>\n",
       "</div>"
      ],
      "text/plain": [
       "                                              name             streetAddress  \\\n",
       "0           Joe &amp; The Juice (67 Spring Street)          67 Spring Street   \n",
       "2                                       Dimes Deli           143 Division St   \n",
       "3                                  Spring Cafe NYC            153d Centre St   \n",
       "4                       Essen Fast Slow Food -Soho         160 Varick Street   \n",
       "5                           The Bean - Astor Place             31 3rd Avenue   \n",
       "...                                            ...                       ...   \n",
       "3218  Pardon My Cheesesteak (1257 Highland Avenue)      1257 Highland Avenue   \n",
       "3219                              Hooters (Dedham)  850 Providence Hwy Rt 1A   \n",
       "3220                Bonchon Chicken (299 Essex St)              299 Essex St   \n",
       "3221                         KFC (485 Boston Road)           485 Boston Road   \n",
       "3222                                   Kung Fu Tea            1 Brighton Ave   \n",
       "\n",
       "      avgRating  \n",
       "0           4.9  \n",
       "2           4.9  \n",
       "3           4.9  \n",
       "4           NaN  \n",
       "5           5.0  \n",
       "...         ...  \n",
       "3218        4.6  \n",
       "3219        4.3  \n",
       "3220        4.7  \n",
       "3221        4.5  \n",
       "3222        NaN  \n",
       "\n",
       "[4240 rows x 3 columns]"
      ]
     },
     "execution_count": 16,
     "metadata": {},
     "output_type": "execute_result"
    }
   ],
   "source": [
    "real_res_df"
   ]
  },
  {
   "cell_type": "code",
   "execution_count": 12,
   "id": "6409e169",
   "metadata": {},
   "outputs": [],
   "source": [
    "# get ratings for fake set and real set\n",
    "\n",
    "fake_res_rating = list(fake_res_df[\"avgRating\"])\n",
    "real_res_rating = list(real_res_df[\"avgRating\"])"
   ]
  },
  {
   "cell_type": "code",
   "execution_count": 13,
   "id": "13ea883a",
   "metadata": {},
   "outputs": [
    {
     "data": {
      "image/png": "[encoded data removed]",
      "text/plain": [
       "<Figure size 432x288 with 1 Axes>"
      ]
     },
     "metadata": {
      "needs_background": "light"
     },
     "output_type": "display_data"
    }
   ],
   "source": [
    "plt.hist(fake_res_rating)\n",
    "plt.title(\"rating distribution of fake restaurants\")\n",
    "plt.show()"
   ]
  },
  {
   "cell_type": "code",
   "execution_count": 14,
   "id": "02a82f3e",
   "metadata": {},
   "outputs": [
    {
     "data": {
      "image/png": "[encoded data removed]",
      "text/plain": [
       "<Figure size 432x288 with 1 Axes>"
      ]
     },
     "metadata": {
      "needs_background": "light"
     },
     "output_type": "display_data"
    }
   ],
   "source": [
    "plt.hist(real_res_rating)\n",
    "plt.title(\"rating distribution of real restaurants\")\n",
    "plt.show()"
   ]
  },
  {
   "cell_type": "code",
   "execution_count": null,
   "id": "a1427a5e",
   "metadata": {},
   "outputs": [],
   "source": []
  },
  {
   "cell_type": "code",
   "execution_count": null,
   "id": "ad96dee7",
   "metadata": {},
   "outputs": [],
   "source": []
  }
 ],
 "metadata": {
  "kernelspec": {
   "display_name": "Python 3 (ipykernel)",
   "language": "python",
   "name": "python3"
  },
  "language_info": {
   "codemirror_mode": {
    "name": "ipython",
    "version": 3
   },
   "file_extension": ".py",
   "mimetype": "text/x-python",
   "name": "python",
   "nbconvert_exporter": "python",
   "pygments_lexer": "ipython3",
   "version": "3.9.12"
  }
 },
 "nbformat": 4,
 "nbformat_minor": 5
}
